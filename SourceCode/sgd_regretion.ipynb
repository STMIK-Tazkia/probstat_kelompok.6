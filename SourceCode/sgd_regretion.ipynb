{
 "cells": [
  {
   "cell_type": "markdown",
   "metadata": {},
   "source": [
    "### **Analisis Data Kesehatan Mental Mahasiswa**\n",
    "\n",
    "File notebook ini berisi analisis eksplorasi data (EDA) dari dataset kesehatan mental mahasiswa. Tujuannya adalah untuk memahami distribusi demografis, prevalensi kondisi kesehatan mental, dan hubungan antara kesehatan mental dengan aspek akademik."
   ]
  },
  {
   "cell_type": "markdown",
   "metadata": {},
   "source": [
    "#### **1. Impor Library**\n",
    "\n",
    "Sel pertama ini digunakan untuk mengimpor semua library Python yang dibutuhkan untuk analisis data dan visualisasi."
   ]
  },
  {
   "cell_type": "code",
   "execution_count": 1,
   "metadata": {},
   "outputs": [
    {
     "name": "stdout",
     "output_type": "stream",
     "text": [
      "Libraries imported successfully!\n"
     ]
    }
   ],
   "source": [
    "import pandas as pd\n",
    "import matplotlib.pyplot as plt\n",
    "import seaborn as sns\n",
    "\n",
    "# Atur gaya visualisasi agar lebih menarik\n",
    "sns.set_style(\"whitegrid\")\n",
    "plt.style.use(\"fivethirtyeight\")\n",
    "\n",
    "print(\"Libraries imported successfully!\")"
   ]
  },
  {
   "cell_type": "markdown",
   "metadata": {},
   "source": [
    "#### **2. Memuat dan Membersihkan Data**\n",
    "Di bagian ini, kita akan memuat dataset dari file `Dataset.csv`. Setelah itu, kita akan melakukan beberapa langkah pembersihan data seperti:\n",
    "* Mengubah nama kolom menjadi format standar (huruf kecil).\n",
    "* Mengonversi tipe data agar sesuai untuk analisis.\n",
    "* Menampilkan beberapa baris pertama dan informasi ringkas untuk memastikan data sudah benar."
   ]
  },
  {
   "cell_type": "code",
   "execution_count": 2,
   "metadata": {},
   "outputs": [
    {
     "name": "stdout",
     "output_type": "stream",
     "text": [
      "Dataset berhasil dimuat.\n",
      "\n",
      "--- Data Awal (5 Baris Pertama) ---\n",
      "             Timestamp  Gender  Age            Course StudyYear  MaritalStatus  Depression  Anxiety  PanicAttack  SeekTreatment         CGPA CGPA_Grade\n",
      "0  08/07/2020 12.02  Female   18       Engineering    year 1          False        True    False         True          False  3.00 - 3.49          B\n",
      "1  08/07/2020 12.04    Male   21  Islamic education    year 2          False       False     True        False          False  3.00 - 3.49          B\n",
      "2  08/07/2020 12.05    Male   19               BIT    year 1          False        True     True         True          False  3.00 - 3.49          B\n",
      "3  08/07/2020 12.06  Female   22              Laws    year 3           True        True    False        False          False  3.00 - 3.49          B\n",
      "4  08/07/2020 12.13    Male   23      Mathemathics    year 4          False       False    False        False          False  3.00 - 3.49          B\n",
      "\n",
      "--- Informasi Dataset Awal ---\n",
      "<class 'pandas.core.frame.DataFrame'>\n",
      "RangeIndex: 101 entries, 0 to 100\n",
      "Data columns (total 12 columns):\n",
      " #   Column         Non-Null Count  Dtype \n",
      "---  ------         --------------  ----- \n",
      " 0   Timestamp      101 non-null    object\n",
      " 1   Gender         101 non-null    object\n",
      " 2   Age            101 non-null    int64 \n",
      " 3   Course         101 non-null    object\n",
      " 4   StudyYear      101 non-null    object\n",
      " 5   MaritalStatus  101 non-null    bool  \n",
      " 6   Depression     101 non-null    bool  \n",
      " 7   Anxiety        101 non-null    bool  \n",
      " 8   PanicAttack    101 non-null    bool  \n",
      " 9   SeekTreatment  101 non-null    bool  \n",
      " 10  CGPA           101 non-null    object\n",
      " 11  CGPA_Grade     101 non-null    object\n",
      "dtypes: bool(5), int64(1), object(6)\n",
      "memory usage: 6.0+ KB\n",
      "\n",
      "--- Data Setelah Pembersihan (5 Baris Pertama) ---\n",
      "             timestamp  gender  age            course  studyyear  maritalstatus  depression  anxiety  panicattack  seektreatment         cgpa cgpa_grade\n",
      "0  08/07/2020 12.02  Female   18       Engineering          1          False        True    False         True          False  3.00 - 3.49          B\n",
      "1  08/07/2020 12.04    Male   21  Islamic education          2          False       False     True        False          False  3.00 - 3.49          B\n",
      "2  08/07/2020 12.05    Male   19               BIT          1          False        True     True         True          False  3.00 - 3.49          B\n",
      "3  08/07/2020 12.06  Female   22              Laws          3           True        True    False        False          False  3.00 - 3.49          B\n",
      "4  08/07/2020 12.13    Male   23      Mathemathics          4          False       False    False        False          False  3.00 - 3.49          B\n",
      "\n",
      "--- Tipe Data Setelah Pembersihan ---\n",
      "timestamp        object\n",
      "gender           object\n",
      "age               int64\n",
      "course           object\n",
      "studyyear         int64\n",
      "maritalstatus      bool\n",
      "depression         bool\n",
      "anxiety            bool\n",
      "panicattack        bool\n",
      "seektreatment      bool\n",
      "cgpa             object\n",
      "cgpa_grade       object\n",
      "dtype: object\n"
     ]
    }
   ],
   "source": [
    "# Membaca file CSV dengan pemisah (delimiter) titik koma (;)\n",
    "df = pd.read_csv('uploaded:Dataset.csv', delimiter=';')\n",
    "print(\"Dataset berhasil dimuat.\")\n",
    "\n",
    "# Menampilkan 5 baris pertama dari dataset awal\n",
    "print(\"\\n--- Data Awal (5 Baris Pertama) ---\")\n",
    "print(df.head())\n",
    "\n",
    "# Menampilkan informasi ringkas tentang dataset\n",
    "print(\"\\n--- Informasi Dataset Awal ---\")\n",
    "df.info()\n",
    "\n",
    "# --- Proses Pembersihan Data ---\n",
    "# 1. Membersihkan nama kolom\n",
    "df.columns = df.columns.str.strip().str.lower()\n",
    "\n",
    "# 2. Mengubah kolom 'studyyear' menjadi numerik\n",
    "df['studyyear'] = df['studyyear'].str.extract(r'(\\d+)').astype(int)\n",
    "\n",
    "# 3. Memastikan kolom boolean memiliki tipe data yang benar\n",
    "bool_cols = ['maritalstatus', 'depression', 'anxiety', 'panicattack', 'seektreatment']\n",
    "for col in bool_cols:\n",
    "    df[col] = df[col].astype(bool)\n",
    "\n",
    "print(\"\\n--- Data Setelah Pembersihan (5 Baris Pertama) ---\")\n",
    "print(df.head())\n",
    "\n",
    "print(\"\\n--- Tipe Data Setelah Pembersihan ---\")\n",
    "print(df.dtypes)"
   ]
  },
  {
   "cell_type": "markdown",
   "metadata": {},
   "source": [
    "#### **3. Analisis dan Visualisasi Data**\n",
    "\n",
    "##### **3.1 Distribusi Kondisi Kesehatan Mental**\n",
    "\n",
    "Mari kita lihat seberapa umum kondisi seperti depresi, kecemasan, dan serangan panik di kalangan mahasiswa dalam sampel ini."
   ]
  },
  {
   "cell_type": "code",
   "execution_count": 3,
   "metadata": {},
   "outputs": [
    {
     "data": {
      "image/png": "[PLACEHOLDER: base64-encoded image data for the mental health distribution plots would be here]",
      "text/plain": [
       "<Figure size 1800x500 with 3 Axes>"
      ]
     },
     "metadata": {},
     "output_type": "display_data"
    }
   ],
   "source": [
    "# Membuat figure dan axes untuk 3 plot\n",
    "plt.figure(figsize=(18, 5))\n",
    "\n",
    "# Plot untuk Depresi\n",
    "plt.subplot(1, 3, 1)\n",
    "sns.countplot(x='depression', data=df, palette='viridis')\n",
    "plt.title('Distribusi Mahasiswa dengan Depresi')\n",
    "plt.xlabel('Mengalami Depresi')\n",
    "plt.ylabel('Jumlah Mahasiswa')\n",
    "plt.xticks(ticks=[0, 1], labels=['Tidak', 'Ya'])\n",
    "\n",
    "# Plot untuk Kecemasan (Anxiety)\n",
    "plt.subplot(1, 3, 2)\n",
    "sns.countplot(x='anxiety', data=df, palette='plasma')\n",
    "plt.title('Distribusi Mahasiswa dengan Kecemasan')\n",
    "plt.xlabel('Mengalami Kecemasan')\n",
    "plt.ylabel('Jumlah Mahasiswa')\n",
    "plt.xticks(ticks=[0, 1], labels=['Tidak', 'Ya'])\n",
    "\n",
    "# Plot untuk Serangan Panik (Panic Attack)\n",
    "plt.subplot(1, 3, 3)\n",
    "sns.countplot(x='panicattack', data=df, palette='magma')\n",
    "plt.title('Distribusi Mahasiswa dengan Serangan Panik')\n",
    "plt.xlabel('Mengalami Serangan Panik')\n",
    "plt.ylabel('Jumlah Mahasiswa')\n",
    "plt.xticks(ticks=[0, 1], labels=['Tidak', 'Ya'])\n",
    "\n",
    "plt.tight_layout()\n",
    "plt.show()"
   ]
  },
  {
   "cell_type": "markdown",
   "metadata": {},
   "source": [
    "##### **3.2 Analisis Demografis**\n",
    "\n",
    "Selanjutnya, kita akan melihat distribusi demografis dari responden berdasarkan gender, usia, dan tahun studi."
   ]
  },
  {
   "cell_type": "code",
   "execution_count": 4,
   "metadata": {},
   "outputs": [
    {
     "data": {
      "image/png": "[PLACEHOLDER: base64-encoded image data for the demographic plots would be here]",
      "text/plain": [
       "<Figure size 1800x500 with 3 Axes>"
      ]
     },
     "metadata": {},
     "output_type": "display_data"
    }
   ],
   "source": [
    "# Membuat figure dan axes untuk 3 plot\n",
    "plt.figure(figsize=(18, 5))\n",
    "\n",
    "# Distribusi Gender\n",
    "plt.subplot(1, 3, 1)\n",
    "sns.countplot(x='gender', data=df, palette='pastel')\n",
    "plt.title('Distribusi Gender Mahasiswa')\n",
    "plt.xlabel('Gender')\n",
    "plt.ylabel('Jumlah Mahasiswa')\n",
    "\n",
    "# Distribusi Usia\n",
    "plt.subplot(1, 3, 2)\n",
    "sns.histplot(df['age'], kde=True, bins=10, color='skyblue')\n",
    "plt.title('Distribusi Usia Mahasiswa')\n",
    "plt.xlabel('Usia')\n",
    "plt.ylabel('Frekuensi')\n",
    "\n",
    "# Distribusi Tahun Studi\n",
    "plt.subplot(1, 3, 3)\n",
    "sns.countplot(x='studyyear', data=df, palette='Paired')\n",
    "plt.title('Distribusi Berdasarkan Tahun Studi')\n",
    "plt.xlabel('Tahun Studi')\n",
    "plt.ylabel('Jumlah Mahasiswa')\n",
    "\n",
    "plt.tight_layout()\n",
    "plt.show()"
   ]
  },
  {
   "cell_type": "markdown",
   "metadata": {},
   "source": [
    "##### **3.3 Hubungan antara Depresi dan Performa Akademik (IPK/CGPA)**\n",
    "\n",
    "Apakah ada hubungan antara performa akademik (diukur dari IPK) dengan kecenderungan mengalami depresi?"
   ]
  },
  {
   "cell_type": "code",
   "execution_count": 5,
   "metadata": {},
   "outputs": [
    {
     "data": {
      "image/png": "[PLACEHOLDER: base64-encoded image data for the Depression vs CGPA plot would be here]",
      "text/plain": [
       "<Figure size 1200x700 with 1 Axes>"
      ]
     },
     "metadata": {},
     "output_type": "display_data"
    }
   ],
   "source": [
    "# Mengurutkan kategori CGPA agar plot lebih rapi\n",
    "cgpa_order = sorted(df['cgpa_grade'].unique())\n",
    "\n",
    "plt.figure(figsize=(12, 7))\n",
    "sns.countplot(x='cgpa_grade', hue='depression', data=df, order=cgpa_order, palette='inferno')\n",
    "plt.title('Hubungan antara Depresi dan Nilai IPK (CGPA)')\n",
    "plt.xlabel('Grade IPK (CGPA)')\n",
    "plt.ylabel('Jumlah Mahasiswa')\n",
    "plt.legend(title='Depresi', labels=['Tidak', 'Ya'])\n",
    "plt.show()"
   ]
  },
  {
   "cell_type": "markdown",
   "metadata": {},
   "source": [
    "##### **3.4 Hubungan antara Tahun Studi dan Kecemasan**\n",
    "\n",
    "Sekarang kita periksa apakah tingkat kecemasan berbeda di antara mahasiswa dari tahun studi yang berbeda."
   ]
  },
  {
   "cell_type": "code",
   "execution_count": 6,
   "metadata": {},
   "outputs": [
    {
     "data": {
      "image/png": "[PLACEHOLDER: base64-encoded image data for the Anxiety vs Study Year plot would be here]",
      "text/plain": [
       "<Figure size 1200x700 with 1 Axes>"
      ]
     },
     "metadata": {},
     "output_type": "display_data"
    }
   ],
   "source": [
    "plt.figure(figsize=(12, 7))\n",
    "sns.countplot(x='studyyear', hue='anxiety', data=df, palette='coolwarm')\n",
    "plt.title('Hubungan antara Tahun Studi dan Kecemasan')\n",
    "plt.xlabel('Tahun Studi')\n",
    "plt.ylabel('Jumlah Mahasiswa')\n",
    "plt.legend(title='Kecemasan', labels=['Tidak', 'Ya'])\n",
    "plt.show()"
   ]
  }
 ],
 "metadata": {
  "kernelspec": {
   "display_name": "Python 3",
   "language": "python",
   "name": "python3"
  },
  "language_info": {
   "name": "python",
   "version": "3.9.12"
  }
 },
 "nbformat": 4,
 "nbformat_minor": 4
}