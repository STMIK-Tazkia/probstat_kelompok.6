{
 "cells": [
  {
   "cell_type": "markdown",
   "metadata": {},
   "source": [
    "# Regresi Linear dengan Stochastic Gradient Descent (SGD)"
   ]
  },
  {
   "cell_type": "markdown",
   "metadata": {},
   "source": [
    "### Blok 1: Impor Pustaka\n",
    "Blok ini hanya berisi semua pustaka yang kita perlukan."
   ]
  },
  {
   "cell_type": "code",
   "execution_count": null,
   "metadata": {},
   "outputs": [],
   "source": [
    "import numpy as np\n",
    "import pandas as pd\n",
    "import matplotlib.pyplot as plt\n",
    "import time"
   ]
  },
  {
   "cell_type": "markdown",
   "metadata": {},
   "source": [
    "### Blok 2: Memuat dan Membersihkan Data\n",
    "Kita memuat dataset, mendefinisikan fungsi untuk memperbaiki kolom 'CGPA', dan membersihkan nilai yang hilang."
   ]
  },
  {
   "cell_type": "code",
   "execution_count": null,
   "metadata": {},
   "outputs": [],
   "source": [
    "print(\"Memuat dan membersihkan data...\")\n",
    "data = pd.read_csv('Dataset.csv', delimiter=';')\n",
    "\n",
    "def convert_cgpa(val):\n",
    "    if isinstance(val, str) and '-' in val:\n",
    "        low, high = val.split('-')\n",
    "        return (float(low) + float(high)) / 2\n",
    "    try:\n",
    "        return float(val)\n",
    "    except (ValueError, TypeError):\n",
    "        return np.nan\n",
    "\n",
    "data['CGPA'] = data['CGPA'].apply(convert_cgpa)\n",
    "data = data.dropna(subset=['CGPA'])\n",
    "print(\"Pembersihan data selesai.\\n\")"
   ]
  },
  {
   "cell_type": "markdown",
   "metadata": {},
   "source": [
    "### Blok 3: Memisahkan Fitur (X) dan Target (y)\n",
    "Di blok ini, kita memilih kolom mana yang akan menjadi fitur input dan mana yang menjadi target prediksi."
   ]
  },
  {
   "cell_type": "code",
   "execution_count": null,
   "metadata": {},
   "outputs": [],
   "source": [
    "print(\"Memisahkan fitur dan target...\")\n",
    "X = data[['Age', 'Depression', 'Anxiety', 'PanicAttack', 'SeekTreatment']].astype(float).values\n",
    "y = data['CGPA'].values\n",
    "print(f\"Bentuk X: {X.shape}\")\n",
    "print(f\"Bentuk y: {y.shape}\\n\")"
   ]
  },
  {
   "cell_type": "markdown",
   "metadata": {},
   "source": [
    "### Blok 4: Normalisasi dan Penambahan Bias\n",
    "Fitur X dinormalisasi agar training lebih stabil, dan kolom bias ditambahkan untuk intercept."
   ]
  },
  {
   "cell_type": "code",
   "execution_count": null,
   "metadata": {},
   "outputs": [],
   "source": [
    "print(\"Normalisasi fitur dan menambah bias...\")\n",
    "X = (X - X.mean(axis=0)) / X.std(axis=0)\n",
    "\n",
    "X = np.c_[np.ones(X.shape[0]), X]\n",
    "print(f\"Bentuk X setelah diproses: {X.shape}\\n\")"
   ]
  },
  {
   "cell_type": "markdown",
   "metadata": {},
   "source": [
    "### Blok 5: Inisialisasi Hyperparameter\n",
    "Semua pengaturan untuk model, seperti learning rate, epoch, dan bobot awal, diatur di sini."
   ]
  },
  {
   "cell_type": "code",
   "execution_count": null,
   "metadata": {},
   "outputs": [],
   "source": [
    "print(\"Inisialisasi hyperparameter...\")\n",
    "lr = 0.01\n",
    "epochs = 1000\n",
    "m, n = X.shape\n",
    "w = np.zeros(n)\n",
    "print(f\"Learning Rate: {lr}\")\n",
    "print(f\"Epochs: {epochs}\\n\")"
   ]
  },
  {
   "cell_type": "markdown",
   "metadata": {},
   "source": [
    "### Blok 6: Proses Training Model\n",
    "Ini adalah blok inti di mana algoritma SGD dijalankan untuk melatih model."
   ]
  },
  {
   "cell_type": "code",
   "execution_count": null,
   "metadata": {},
   "outputs": [],
   "source": [
    "print(\"Memulai training model...\")\n",
    "start_time = time.time()\n",
    "\n",
    "for epoch in range(epochs):\n",
    "    for i in range(m):\n",
    "        idx = np.random.randint(0, m)\n",
    "        xi = X[idx]\n",
    "        yi = y[idx]\n",
    "        y_pred = np.dot(xi, w)\n",
    "        error = y_pred - yi\n",
    "        gradient = xi * error\n",
    "        w -= lr * gradient\n",
    "\n",
    "end_time = time.time()\n",
    "training_duration = end_time - start_time\n",
    "print(f\"Training selesai dalam {training_duration:.4f} detik.\\n\")"
   ]
  },
  {
   "cell_type": "markdown",
   "metadata": {},
   "source": [
    "### Blok 7: Evaluasi Model\n",
    "Setelah training, kita evaluasi hasilnya dengan menghitung Mean Squared Error (MSE)."
   ]
  },
  {
   "cell_type": "code",
   "execution_count": null,
   "metadata": {},
   "outputs": [],
   "source": [
    "print(\"Evaluasi model...\")\n",
    "y_pred_all = X.dot(w)\n",
    "mse = np.mean((y - y_pred_all)**2)\n",
    "print('Bobot akhir (w):', w)\n",
    "print('Mean Squared Error (MSE):', mse, \"\\n\")"
   ]
  },
  {
   "cell_type": "markdown",
   "metadata": {},
   "source": [
    "### Blok 8: Visualisasi Hasil\n",
    "Terakhir, kita buat plot untuk membandingkan secara visual antara nilai aktual dan nilai prediksi."
   ]
  },
  {
   "cell_type": "code",
   "execution_count": null,
   "metadata": {},
   "outputs": [],
   "source": [
    "print(\"Menampilkan plot hasil...\")\n",
    "plt.figure(figsize=(10, 6))\n",
    "plt.scatter(y, y_pred_all, alpha=0.7, edgecolors='k', label='Aktual vs. Prediksi')\n",
    "plt.plot([y.min(), y.max()], [y.min(), y.max()], 'r--', lw=2, label='Garis Ideal')\n",
    "plt.title('Perbandingan CGPA Aktual vs. Prediksi')\n",
    "plt.xlabel('CGPA Aktual')\n",
    "plt.ylabel('CGPA Prediksi')\n",
    "plt.legend()\n",
    "plt.grid(True)\n",
    "plt.show()"
   ]
  }
 ],
 "metadata": {
  "kernelspec": {
   "display_name": "Python 3 (ipykernel)",
   "language": "python",
   "name": "python3"
  },
  "language_info": {
   "codemirror_mode": {
    "name": "ipython",
    "version": 3
   },
   "file_extension": ".py",
   "mimetype": "text/x-python",
   "name": "python",
   "nbconvert_exporter": "python",
   "pygments_lexer": "ipython3",
   "version": "3.9.12"
  }
 },
 "nbformat": 4,
 "nbformat_minor": 5
}

