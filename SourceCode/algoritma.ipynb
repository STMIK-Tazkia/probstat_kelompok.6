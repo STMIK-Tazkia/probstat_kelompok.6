{
 "cells": [
  {
   "cell_type": "markdown",
   "metadata": {},
   "source": [
    "# Analisis Depresi Mahasiswa dengan Model Machine Learning\n",
    "\n",
    "Notebook ini berisi proses lengkap untuk memuat data, melakukan pra-pemrosesan (preprocessing), melatih dua model machine learning (Linear Regression dan SGD Classifier), dan mengevaluasi performa keduanya untuk tugas klasifikasi."
   ]
  },
  {
   "cell_type": "code",
   "execution_count": 1,
   "metadata": {},
   "outputs": [],
   "source": [
    "import pandas as pd\n",
    "import seaborn as sns\n",
    "import matplotlib.pyplot as plt\n",
    "from sklearn.model_selection import train_test_split\n",
    "from sklearn.preprocessing import StandardScaler, OneHotEncoder\n",
    "from sklearn.compose import ColumnTransformer\n",
    "from sklearn.linear_model import LinearRegression, SGDClassifier\n",
    "from sklearn.pipeline import Pipeline\n",
    "from sklearn.metrics import mean_squared_error, accuracy_score, classification_report, confusion_matrix\n",
    "from sklearn.impute import SimpleImputer",
    "import numpy as np"
   ]
  },
  {
   "cell_type": "markdown",
   "metadata": {},
   "source": [
    "## BAGIAN 1: MEMBACA DAN MEMPERSIAPKAN DATA\n",
    "\n",
    "Pada bagian ini, kita akan:\n",
    "1. Membaca dataset dari file CSV.\n",
    "2. Membersihkan dan mengubah format data (misalnya, konversi kolom boolean/string menjadi numerik).\n",
    "3. Melakukan rekayasa fitur sederhana (membuat `CGPA_Numeric`).\n",
    "4. Memisahkan fitur (X) dan target (y).\n",
    "5. Membuat pipeline preprocessing untuk menangani kolom numerik dan kategorikal.\n",
    "6. Membagi data menjadi set pelatihan dan pengujian."
   ]
  },
  {
   "cell_type": "code",
   "execution_count": 2,
   "metadata": {},
   "outputs": [
    {
     "name": "stdout",
     "output_type": "stream",
     "text": [
      "Data berhasil dimuat. Memulai persiapan data untuk Machine Learning...\n",
      "\n",
      "\n",
      "Ukuran data latih (X_train): (80, 8)\n",
      "Ukuran data uji (X_test): (21, 8)\n"
     ]
    }
   ],
   "source": [
    "# Membaca data dari file CSV\n",
    "try:\n",
    "    df = pd.read_csv(\"Dataset.csv\", sep=';')\n",
    "except Exception as e:\n",
    "    print(f\"Error membaca file dengan separator ';': {e}\")\n",
    "    print(\"Mencoba membaca dengan separator ','...\")\n",
    "    df = pd.read_csv(\"Dataset.csv\")\n",
    "\n",
    "print(\"Data berhasil dimuat. Memulai persiapan data untuk Machine Learning...\")\n",
    "\n",
    "# Mendefinisikan variabel target yang akan diprediksi\n",
    "TARGET = 'Depression'\n",
    "\n",
    "# Membuat pemetaan untuk kolom CGPA\n",
    "cgpa_map = {\n",
    "    '0 - 1.99': 1.0,\n",
    "    '2.00 - 2.49': 2.25,\n",
    "    '2.50 - 2.99': 2.75,\n",
    "    '3.00 - 3.49': 3.25,\n",
    "    '3.50 - 4.00': 3.75\n",
    "}\n",
    "\n",
    "# Mengonversi semua kolom boolean/string boolean menjadi format numerik (1/0)\n",
    "for col in ['Gender', 'MaritalStatus', 'Depression', 'Anxiety', 'PanicAttack', 'SeekTreatment']:\n",
    "    if col in df.columns:\n",
    "        if df[col].dtype == 'object':\n",
    "            df[col] = df[col].apply(lambda x: 1 if str(x).strip().lower() in ['female', 'true', 'yes'] else 0)\n",
    "        elif df[col].dtype == 'bool':\n",
    "            df[col] = df[col].astype(int)\n",
    "\n",
    "# Menambahkan kolom CGPA_Numeric ke dataframe\n",
    "if 'CGPA' in df.columns:\n",
    "    df['CGPA_Numeric'] = df['CGPA'].map(cgpa_map)\n",
    "    df['CGPA_Numeric'].fillna(df['CGPA_Numeric'].mean(), inplace=True)\n",
    "    df.drop(columns=['CGPA_Grade'], inplace=True, errors='ignore')\n",
    "\n",
    "# Mendefinisikan fitur (X) dan target (y)\n",
    "features_to_drop = ['Timestamp', TARGET, 'Anxiety', 'PanicAttack', 'CGPA'] \n",
    "X = df.drop(columns=features_to_drop, errors='ignore')\n",
    "y = df[TARGET]\n",
    "\n",
    "# Mengidentifikasi kolom kategorikal dan numerik untuk preprocessing\n",
    "X['StudyYear'] = X['StudyYear'].astype(str)\n",
    "categorical_features = ['Course', 'StudyYear']\n",
    "numerical_features = ['Age', 'CGPA_Numeric']\n",
    "\n",
    "# Membuat pipeline untuk fitur numerik yang menangani nilai kosong\n",
    "numeric_transformer = Pipeline(steps=[\n",
    "    ('imputer', SimpleImputer(strategy='mean')),\n",
    "    ('scaler', StandardScaler())\n",
    "])\n",
    "# Membuat preprocessor untuk mentransformasi kolom\n",
    "preprocessor = ColumnTransformer(\n",
    "    transformers=[\n",
    "        ('num', numeric_transformer, numerical_features),\n",
    "        ('cat', OneHotEncoder(handle_unknown='ignore'), categorical_features)\n",
    "    ],\n",
    "    remainder='passthrough' \n",
    ")\n",
    "\n",
    "# Memisahkan data menjadi data latih dan data uji (80% latih, 20% uji)\n",
    "X_train, X_test, y_train, y_test = train_test_split(X, y, test_size=0.2, random_state=42, stratify=y)\n",
    "\n",
    "print(f\"\\nUkuran data latih (X_train): {X_train.shape}\")\n",
    "print(f\"Ukuran data uji (X_test): {X_test.shape}\")"
   ]
  },
  {
   "cell_type": "markdown",
   "metadata": {},
   "source": [
    "## BAGIAN 2: ALGORITMA 1 - LINEAR REGRESSION (UNTUK KLASIFIKASI)\n",
    "\n",
    "Meskipun Regresi Linear pada dasarnya adalah model untuk regresi, kita dapat menggunakannya untuk klasifikasi biner dengan menerapkan *threshold* (ambang batas) pada outputnya. Di sini, kita akan menggunakan threshold 0.5: jika prediksi > 0.5, kelasnya adalah 1, dan sebaliknya."
   ]
  },
  {
   "cell_type": "code",
   "execution_count": 3,
   "metadata": {},
   "outputs": [
    {
     "name": "stdout",
     "output_type": "stream",
     "text": [
      "--- Melatih Model: Linear Regression ---\n",
      "\n",
      "Mean Squared Error (MSE) dari prediksi mentah: 0.2223\n",
      "Akurasi setelah thresholding (> 0.5): 0.7143\n",
      "\n",
      "Laporan Klasifikasi (Linear Regression):\n",
      "              precision    recall  f1-score   support\n",
      "\n",
      "           0       0.71      1.00      0.83        15\n",
      "           1       0.00      0.00      0.00         6\n",
      "\n",
      "    accuracy                           0.71        21\n",
      "   macro avg       0.36      0.50      0.42        21\n",
      "weighted avg       0.51      0.71      0.60        21\n"
     ]
    }
   ],
   "source": [
    "print(\"--- Melatih Model: Linear Regression ---\")\n",
    "\n",
    "# Membuat pipeline: Preprocessing -> Model\n",
    "lr_pipeline = Pipeline(steps=[('preprocessor', preprocessor),\n",
    "                              ('regressor', LinearRegression())])\n",
    "\n",
    "# Melatih model\n",
    "lr_pipeline.fit(X_train, y_train)\n",
    "\n",
    "# Membuat prediksi (hasilnya adalah nilai kontinu)\n",
    "y_pred_lr_raw = lr_pipeline.predict(X_test)\n",
    "\n",
    "# Mengonversi hasil prediksi menjadi kelas biner (0 atau 1) dengan threshold 0.5\n",
    "y_pred_lr = (y_pred_lr_raw > 0.5).astype(int)\n",
    "\n",
    "# Evaluasi model\n",
    "mse = mean_squared_error(y_test, y_pred_lr_raw)\n",
    "accuracy_lr = accuracy_score(y_test, y_pred_lr)\n",
    "\n",
    "print(f\"\\nMean Squared Error (MSE) dari prediksi mentah: {mse:.4f}\")\n",
    "print(f\"Akurasi setelah thresholding (> 0.5): {accuracy_lr:.4f}\")\n",
    "print(\"\\nLaporan Klasifikasi (Linear Regression):\")\n",
    "print(classification_report(y_test, y_pred_lr, zero_division=0))"
   ]
  },
  {
   "cell_type": "markdown",
   "metadata": {},
   "source": [
    "## BAGIAN 3: ALGORITMA 2 - STOCHASTIC GRADIENT DESCENT (SGD) CLASSIFIER\n",
    "\n",
    "SGD Classifier adalah model yang lebih cocok untuk tugas klasifikasi. Dengan mengatur `loss='log_loss'`, model ini akan bekerja seperti Regresi Logistik yang dioptimalkan menggunakan SGD. Model ini akan langsung menghasilkan prediksi kelas (0 atau 1)."
   ]
  },
  {
   "cell_type": "code",
   "execution_count": 4,
   "metadata": {},
   "outputs": [
    {
     "name": "stdout",
     "output_type": "stream",
     "text": [
      "--- Melatih Model: Stochastic Gradient Descent (SGD) Classifier ---\n",
      "\n",
      "Akurasi: 0.7619\n",
      "\n",
      "Laporan Klasifikasi (SGD Classifier):\n",
      "              precision    recall  f1-score   support\n",
      "\n",
      "           0       0.79      0.93      0.85        15\n",
      "           1       0.67      0.33      0.44         6\n",
      "\n",
      "    accuracy                           0.76        21\n",
      "   macro avg       0.73      0.63      0.65        21\n",
      "weighted avg       0.75      0.76      0.74        21\n"
     ]
    }
   ],
   "source": [
    "print(\"--- Melatih Model: Stochastic Gradient Descent (SGD) Classifier ---\")\n",
    "\n",
    "# Membuat pipeline: Preprocessing -> Model\n",
    "# loss='log_loss' membuat SGDClassifier bekerja seperti Regresi Logistik\n",
    "sgd_pipeline = Pipeline(steps=[('preprocessor', preprocessor),\n",
    "                               ('classifier', SGDClassifier(loss='log_loss', random_state=42, max_iter=1000, tol=1e-3))])\n",
    "\n",
    "# Melatih model\n",
    "sgd_pipeline.fit(X_train, y_train)\n",
    "\n",
    "# Membuat prediksi (hasilnya sudah dalam bentuk kelas 0 atau 1)\n",
    "y_pred_sgd = sgd_pipeline.predict(X_test)\n",
    "\n",
    "# Evaluasi model\n",
    "accuracy_sgd = accuracy_score(y_test, y_pred_sgd)\n",
    "print(f\"\\nAkurasi: {accuracy_sgd:.4f}\")\n",
    "\n",
    "print(\"\\nLaporan Klasifikasi (SGD Classifier):\")\n",
    "print(classification_report(y_test, y_pred_sgd, zero_division=0))"
   ]
  },
  {
   "cell_type": "markdown",
   "metadata": {},
   "source": [
    "### Visualisasi Confusion Matrix untuk SGD Classifier\n",
    "\n",
    "Confusion matrix membantu kita memahami performa model secara lebih rinci, dengan menunjukkan jumlah prediksi yang Benar Positif (TP), Benar Negatif (TN), Salah Positif (FP), dan Salah Negatif (FN)."
   ]
  },
  {
   "cell_type": "code",
   "execution_count": 5,
   "metadata": {},
   "outputs": [
    {
     "name": "stdout",
     "output_type": "stream",
     "text": [
      "\n",
      "Confusion Matrix (SGD Classifier):\n"
     ]
    },
    {
     "data": {
      "text/plain": [
       "array([[14,  1],\n",
       "       [ 4,  2]])"
      ]
     },
     "execution_count": 5,
     "metadata": {},
     "output_type": "execute_result"
    }
   ],
   "source": [
    "print(\"\\nConfusion Matrix (SGD Classifier):\")\n",
    "cm = confusion_matrix(y_test, y_pred_sgd)\n",
    "# Baris di bawah ini akan menampilkan matriks sebagai teks jika ini adalah baris terakhir\n",
    "cm \n",
    "\n",
    "# Kode plotting asli di-comment untuk menghindari output gambar\n",
    "# plt.figure(figsize=(6,5))\n",
    "# sns.heatmap(cm, annot=True, fmt='d', cmap='Blues', \n",
    "#             xticklabels=['No Depression', 'Depression'], \n",
    "#             yticklabels=['No Depression', 'Depression'])\n",
    "# plt.title('Confusion Matrix - SGD Classifier')\n",
    "# plt.xlabel('Predicted Label')\n",
    "# plt.ylabel('True Label')\n",
    "# plt.show()"
   ]
  }
 ],
 "metadata": {
  "kernelspec": {
   "display_name": "Python 3",
   "language": "python",
   "name": "python3"
  },
  "language_info": {
   "codemirror_mode": {
    "name": "ipython",
    "version": 3
   },
   "file_extension": ".py",
   "mimetype": "text/x-python",
   "name": "python",
   "nbconvert_exporter": "python",
   "pygments_lexer": "ipython3",
   "version": "3.9.12"
  }
 },
 "nbformat": 4,
 "nbformat_minor": 4
}
